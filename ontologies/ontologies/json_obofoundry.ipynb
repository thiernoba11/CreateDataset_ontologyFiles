{
 "cells": [
  {
   "cell_type": "code",
   "execution_count": null,
   "metadata": {},
   "outputs": [],
   "source": [
    "import requests\n",
    "\n",
    "obo_json = requests.get(\"http://www.obofoundry.org/registry/ontologies.jsonld\", allow_redirects=True)\n",
    "open('obofoundry.json', 'wb').write(obo_json.content)\n",
    "\n",
    "with open('obofoundry.json') as json_file:\n",
    "    json_data = json.load(json_file)\n",
    "   \n",
    "ontologies = json_data['ontologies']\n",
    "\n",
    "ontology_with_owl = []\n",
    "\n",
    "\n",
    "for ontology in ontologies:\n",
    "    owl_data = {}\n",
    "    if ontology['activity_status'] == 'active':\n",
    "        title = ontology['title']\n",
    "        products = ontology['products']\n",
    "        owls = [product for product in products if product['id'].endswith('.owl')]\n",
    "       \n",
    "        if len(owls) < 1:\n",
    "            continue\n",
    "        owl_url = owls[0]['ontology_purl']\n",
    "       \n",
    "        owl_data['title'] = title\n",
    "        owl_data['owl_url'] = owl_url\n",
    "       \n",
    "        ontology_with_owl.append(owl_data)\n",
    "\n",
    "       \n",
    "for ontology in ontology_with_owl:\n",
    "    # Downloading\n",
    "    print(\"==>>> Downloading: \", ontology['title'])\n",
    "    file_name = \"_\".join(ontology['title'].split(\" \"))\n",
    "   \n",
    "    resp = requests.get(ontology['owl_url'], allow_redirects=True)\n",
    "    open(file_name, 'wb').write(resp.content)\n"
   ]
  }
 ],
 "metadata": {
  "kernelspec": {
   "display_name": "Python 3",
   "language": "python",
   "name": "python3"
  },
  "language_info": {
   "codemirror_mode": {
    "name": "ipython",
    "version": 3
   },
   "file_extension": ".py",
   "mimetype": "text/x-python",
   "name": "python",
   "nbconvert_exporter": "python",
   "pygments_lexer": "ipython3",
   "version": "3.7.4"
  }
 },
 "nbformat": 4,
 "nbformat_minor": 2
}
